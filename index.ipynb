{
 "cells": [
  {
   "cell_type": "markdown",
   "metadata": {},
   "source": [
    "# Project: Analyzing Macbeth"
   ]
  },
  {
   "cell_type": "markdown",
   "metadata": {},
   "source": [
    "## Introduction\n",
    "For our first day and first data science project, we're going to do some rudimentry analysis of Shakespeare's classic play: Macbeth! You will get practice working with lists, condtionals and dictionaries, visualizing data, and thinking analytically about data."
   ]
  },
  {
   "cell_type": "markdown",
   "metadata": {},
   "source": [
    "## Objectives\n",
    "You will be able to:\n",
    "* Show mastery of the content covered in this section"
   ]
  },
  {
   "cell_type": "markdown",
   "metadata": {},
   "source": [
    "### Getting the Data\n",
    "Here we start by importing a python package and using it to pull the transcript of Macbeth from the project Gutenberg website. We also preview a few details about what is now stored in the variable macbeth; it's a string with 119,846 characters, the first 500 of which are printed below. "
   ]
  },
  {
   "cell_type": "code",
   "execution_count": 131,
   "metadata": {},
   "outputs": [
    {
     "name": "stdout",
     "output_type": "stream",
     "text": [
      "<class 'str'>\n",
      "119846\n"
     ]
    }
   ],
   "source": [
    "import requests\n",
    "import numpy as np\n",
    "import matplotlib.pyplot as plt\n",
    "macbeth = requests.get('http://www.gutenberg.org/cache/epub/2264/pg2264.txt').text\n",
    "\n",
    "print(type(macbeth))\n",
    "print(len(macbeth))\n",
    "#print(macbeth[:500])\n",
    "#print(macbeth[501:900])\n",
    "#print(macbeth[901:950])\n"
   ]
  },
  {
   "cell_type": "markdown",
   "metadata": {},
   "source": [
    "### Your Task\n",
    "\n",
    "Your task is to create a bar graph of the 25 most common words in the Shakespeare's Macbeth.  \n",
    "\n",
    "\n",
    "A common python programming pattern to counting objects, produce histograms, or update statistics is to make calls to a dictionary as you iterate through a list. For example, given a list of words, you can create a dictionary to store counts and then iterate through the list of words, checking how many times each word has appeared using your dictionary, and updating the dictionary count now that you've seen that word again. The `dictionary.get()` method is very useful in doing this. Read the docstring for the dictionary.get() method and use it along with the pseudocode above to create a bar graph of the 25 most common words from the transcript of Macbeth which has been loaded into a variable 'Macbeth'. Be sure to include a title and appropriate labels for your graph."
   ]
  },
  {
   "cell_type": "code",
   "execution_count": 135,
   "metadata": {},
   "outputs": [
    {
     "name": "stdout",
     "output_type": "stream",
     "text": [
      "{'the': 620, 'and': 427, 'of': 395, 'to': 367, 'I': 326, 'a': 255, 'you': 193, 'in': 190, 'is': 185, 'my': 170, 'And': 169, 'that': 158, 'not': 142, 'with': 141, 'Macb.': 137, 'be': 133, 'The': 131, 'it': 128, 'his': 127, 'your': 122, 'our': 116, 'haue': 114, 'this': 108, 'for': 100, 'That': 80, 'To': 79}\n"
     ]
    },
    {
     "data": {
      "text/plain": [
       "<BarContainer object of 26 artists>"
      ]
     },
     "execution_count": 135,
     "metadata": {},
     "output_type": "execute_result"
    },
    {
     "data": {
      "image/png": "[encoded data removed]",
      "text/plain": [
       "<Figure size 576x432 with 1 Axes>"
      ]
     },
     "metadata": {},
     "output_type": "display_data"
    }
   ],
   "source": [
    "# Your code here\n",
    "\n",
    "# Pseudo-code Outline\n",
    "# Split the transcript into words\n",
    "# Create a dictionary\n",
    "# Iterate through the text of Macbeth\n",
    "# Update word counts\n",
    "# Create Bar Graph\n",
    "# Include descriptive titles and labels\n",
    "\n",
    "import numpy as np\n",
    "import matplotlib.pyplot as plt\n",
    "\n",
    "macbeth_words = macbeth.split()\n",
    "\n",
    "#word_dict = {}\n",
    "#for word in macbeth_words:\n",
    "#    word_dict[word] = 0\n",
    "\n",
    "#print(word_dict)\n",
    "#word_dict.get('these')\n",
    "    \n",
    "#for word in word_dict:\n",
    "    \n",
    "    \n",
    "\n",
    "\n",
    "#print(macbeth_words)\n",
    "\n",
    "unique_words = set(macbeth_words)\n",
    "list(unique_words)\n",
    "\n",
    "\n",
    "#print(unique_words)\n",
    "#len(unique_words)\n",
    "word_dict = {}\n",
    "\n",
    "for word in unique_words:\n",
    "    word_dict[macbeth_words.count(word)] = f'{word}'\n",
    "\n",
    "    \n",
    "#print(word_dict)\n",
    "len(word_dict)\n",
    "#print(word_dict)[0:1000]\n",
    "\n",
    "keys = list(word_dict.keys())\n",
    "\n",
    "#print(values)\n",
    "#type(values)\n",
    "reverse_sort = list(sorted(keys, reverse=True))\n",
    "\n",
    "top_25_values = reverse_sort[0:26]\n",
    "\n",
    "top_25_values\n",
    "\n",
    "top = {}\n",
    "\n",
    "for i in top_25_values:\n",
    "    #print(word_dict.get(i))\n",
    "    top[word_dict.get(i)] = i\n",
    "    \n",
    "print(top)\n",
    "\n",
    "plt.figure(figsize=(8,6))\n",
    "\n",
    "\n",
    "\n",
    "y = top.values()\n",
    "x = top.keys()\n",
    "labels = {'X-Labels' : 'Words', 'Y-Labels' : 'Usage Frequency'}\n",
    "plt.xticks(rotation='vertical')\n",
    "\n",
    "plt.xlabel(labels['X-Labels'])\n",
    "plt.ylabel(labels['Y-Labels'])\n",
    "plt.title('top 25 Words Used in Macbeth')\n",
    "plt.bar(x, y, label = 'Top 25 Words Used in Macbeth', color='Purple')\n",
    "\n",
    "\n"
   ]
  },
  {
   "cell_type": "markdown",
   "metadata": {},
   "source": [
    "### Level Up (Optional)\n",
    "This project should take you about an hour and a half to complete. If you're done much more quickly than that and are not behind in the course, feel free to deepen your knowledge by completing any or all of the following tasks until you run out of time:\n",
    "* Create a list of top characters by mentions of their names \n",
    "* Split the text by which character is talking\n",
    "* Create sub graphs of the most common words by character\n",
    "* Reduce the string to the text of the play itself. (Remove any initial notes, forward, introduction, appendix, etc.)\n",
    "* Come up with some other fun analyses of the text!"
   ]
  },
  {
   "cell_type": "markdown",
   "metadata": {},
   "source": [
    "## Summary\n",
    "Congratulations! You've got some extra practice combining various data types into useful programming patterns and done an intitial analysis of a classic text!"
   ]
  }
 ],
 "metadata": {
  "kernelspec": {
   "display_name": "Python 3",
   "language": "python",
   "name": "python3"
  },
  "language_info": {
   "codemirror_mode": {
    "name": "ipython",
    "version": 3
   },
   "file_extension": ".py",
   "mimetype": "text/x-python",
   "name": "python",
   "nbconvert_exporter": "python",
   "pygments_lexer": "ipython3",
   "version": "3.6.5"
  }
 },
 "nbformat": 4,
 "nbformat_minor": 2
}
